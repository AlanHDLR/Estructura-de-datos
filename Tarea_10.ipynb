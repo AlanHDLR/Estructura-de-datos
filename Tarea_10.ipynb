{
  "nbformat": 4,
  "nbformat_minor": 0,
  "metadata": {
    "colab": {
      "name": "Tarea_10.ipynb",
      "provenance": [],
      "authorship_tag": "ABX9TyNkPdS0J0FR42zsn5Qltxm7",
      "include_colab_link": true
    },
    "kernelspec": {
      "name": "python3",
      "display_name": "Python 3"
    },
    "language_info": {
      "name": "python"
    }
  },
  "cells": [
    {
      "cell_type": "markdown",
      "metadata": {
        "id": "view-in-github",
        "colab_type": "text"
      },
      "source": [
        "<a href=\"https://colab.research.google.com/github/AlanHDLR/Estructura-de-datos/blob/main/Tarea_10.ipynb\" target=\"_parent\"><img src=\"https://colab.research.google.com/assets/colab-badge.svg\" alt=\"Open In Colab\"/></a>"
      ]
    },
    {
      "cell_type": "code",
      "metadata": {
        "id": "f7rJfNkFBpbf"
      },
      "source": [
        "class Queue:\n",
        "    def __init__( self ):\n",
        "        self.data =[]\n",
        "\n",
        "    def is_empty( self):\n",
        "        return len(self.data)==0  \n",
        "    \n",
        "    def enqueue( self, value ):\n",
        "        self.data.append(value)\n",
        "    \n",
        "    def dequeue( self):\n",
        "        return self.data.pop()\n",
        "    \n",
        "    def length( self):\n",
        "        return len(self.data)\n",
        "    \n",
        "    def to_string( self):\n",
        "        for elem in self.data:\n",
        "            print(f'|{ elem }| <-- ', end=\"\")\n",
        "        print(\"\\n\")"
      ],
      "execution_count": 29,
      "outputs": []
    },
    {
      "cell_type": "code",
      "metadata": {
        "id": "BBx5rG98Bphe"
      },
      "source": [
        "class PQueue:\n",
        "    def __init__(self):\n",
        "        self.data=[]\n",
        "        self.index=[]\n",
        "    \n",
        "    def is_empty(self):\n",
        "        return len(self.data)==0 \n",
        "    \n",
        "    def length(self):\n",
        "        return len(self.data)\n",
        "\n",
        "    def enqueue(self,prioridad,elem):\n",
        "        if len(self.data)==0:\n",
        "            self.data.append(elem)\n",
        "            self.index.append(prioridad)\n",
        "        elif prioridad>=self.index[-1]:\n",
        "            self.data.append(elem)\n",
        "            self.index.append(prioridad)\n",
        "        else:\n",
        "            cont=0\n",
        "            for elemento in self.index:\n",
        "                if prioridad>=elemento:\n",
        "                    cont+=1\n",
        "            self.data.insert(cont, elem)\n",
        "            self.index.insert(cont, prioridad)\n",
        "\n",
        "    def dequeue(self):\n",
        "        eliminar=self.index.pop(0)\n",
        "        return self.data.pop(0)\n",
        "    \n",
        "    def to_string(self):\n",
        "        cont=0\n",
        "        for elem in self.data:\n",
        "            print(f'|{self.index[cont], elem}|<--', end=\"\")\n",
        "            cont+=1"
      ],
      "execution_count": 30,
      "outputs": []
    },
    {
      "cell_type": "code",
      "metadata": {
        "colab": {
          "base_uri": "https://localhost:8080/"
        },
        "id": "sCx8CiGPBpru",
        "outputId": "7e882b0b-eb28-4b04-894c-820a8658d83e"
      },
      "source": [
        "#Asignamos el numero de clases a tomar en cuenta\n",
        "cola = BPQueue(6)\n",
        "\n",
        "# ASIGNAMOS PRIORIDADES\n",
        "cola.enqueue(0,\"Personas con dificultades motrices.\")\n",
        "cola.enqueue(1,\"Personas de la 3ra Edad.\")\n",
        "cola.enqueue(2,\"Mujeres embarazadas.\")\n",
        "cola.enqueue(3,\"Personas con problemas de salud.\")\n",
        "cola.enqueue(4,\"Adultos\")\n",
        "cola.enqueue(5,\"Jovenes Adultos\")\n",
        "\n",
        "print(\"Esta vacío?: \",cola.is_empty())\n",
        "print()\n",
        "print(\"Número de elementos: \",cola.length())\n",
        "print()\n",
        "print(\"Orden por priorides:\")\n",
        "cola.to_string()\n"
      ],
      "execution_count": 31,
      "outputs": [
        {
          "output_type": "stream",
          "name": "stdout",
          "text": [
            "Esta vacío?:  False\n",
            "\n",
            "Número de elementos:  6\n",
            "\n",
            "Orden por priorides:\n",
            "|Personas con dificultades motrices.| <-- \n",
            "\n",
            "|Personas de la 3ra Edad.| <-- \n",
            "\n",
            "|Mujeres embarazadas.| <-- \n",
            "\n",
            "|Personas con problemas de salud.| <-- \n",
            "\n",
            "|Adultos| <-- \n",
            "\n",
            "|Jovenes Adultos| <-- \n",
            "\n",
            "\n"
          ]
        }
      ]
    }
  ]
}