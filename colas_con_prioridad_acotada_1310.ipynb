{
  "nbformat": 4,
  "nbformat_minor": 0,
  "metadata": {
    "colab": {
      "name": "colas_con_prioridad_acotada_1310.ipynb",
      "provenance": [],
      "authorship_tag": "ABX9TyOJdR2wXaJBvPxKOQUIXyha",
      "include_colab_link": true
    },
    "kernelspec": {
      "name": "python3",
      "display_name": "Python 3"
    },
    "language_info": {
      "name": "python"
    }
  },
  "cells": [
    {
      "cell_type": "markdown",
      "metadata": {
        "id": "view-in-github",
        "colab_type": "text"
      },
      "source": [
        "<a href=\"https://colab.research.google.com/github/AlanHDLR/Estructura-de-datos/blob/main/colas_con_prioridad_acotada_1310.ipynb\" target=\"_parent\"><img src=\"https://colab.research.google.com/assets/colab-badge.svg\" alt=\"Open In Colab\"/></a>"
      ]
    },
    {
      "cell_type": "code",
      "metadata": {
        "id": "r_pbiMnnar2W"
      },
      "source": [
        "class Queue:\n",
        "    def __init__( self ):\n",
        "        self.data = []\n",
        "\n",
        "    def is_empty( self ):\n",
        "         return len( self.data ) == 0\n",
        "\n",
        "    def length( self ):\n",
        "         return len( self.data )\n",
        "\n",
        "    def enqueue( self, value ):\n",
        "        self.data.append( value ) \n",
        "\n",
        "    def dequeue( self ):\n",
        "        if self.is_empty():\n",
        "            print(\"no se puede quitar mas elementos, la cola esta vacia\")\n",
        "        else:     \n",
        "            return self.data.pop(0)\n",
        "\n",
        "    def to_string( self ):\n",
        "        for elem in self.data:\n",
        "            print(f\"| { elem } | <--\", end=\"\" )\n",
        "        print(\"\")"
      ],
      "execution_count": 1,
      "outputs": []
    },
    {
      "cell_type": "code",
      "metadata": {
        "id": "XCT4QTKnaxqf"
      },
      "source": [
        "class BoundedPriorityQueue:\n",
        "    def __init__( self, niveles ):\n",
        "        self.__data = [Queue() for x in range(niveles)]\n",
        "        #self.__data = Array(niveles)\n",
        "        #self.__data.clear( Queue() )\n",
        "        self.__size = 0\n",
        "        \n",
        "    def is_empty( self ):\n",
        "         return self.__size == 0\n",
        "\n",
        "    def length( self ):\n",
        "         return self.__size\n",
        "\n",
        "    def enqueue( self, prioridad, elem):\n",
        "        if prioridad < len( self.__data) \\\n",
        "           and prioridad >= 0:\n",
        "           self.__data[ prioridad ].enqueue( elem )\n",
        "           self.__size +=1\n",
        "\n",
        "    def dequeue( self ):\n",
        "        nivel = 0\n",
        "        while self.__data[nivel].is_empty() \\\n",
        "              and nivel < self.length():\n",
        "            nivel +=1\n",
        "\n",
        "        if nivel >= self.length():\n",
        "            print(\"cola esta vacia\")\n",
        "        else:\n",
        "            return self.__data[ nivel ].dequeue()\n",
        "\n",
        "    def to_string( self ):\n",
        "        prioridad = 0\n",
        "        for cola in self.__data:\n",
        "            print(f\"Prioridad {prioridad} ->\", end=\"\")\n",
        "            if not cola.is_empty():\n",
        "                cola.to_string()"
      ],
      "execution_count": 2,
      "outputs": []
    },
    {
      "cell_type": "code",
      "metadata": {
        "colab": {
          "base_uri": "https://localhost:8080/"
        },
        "id": "ri1jdwvNa0TG",
        "outputId": "74c238e2-8a4b-4d16-8742-8de869f39222"
      },
      "source": [
        "#prueba de la cola con prioridad\n",
        "\n",
        "salvavidas = BoundedPriorityQueue( 7 )\n",
        "salvavidas.enqueue( 4 , \"maestre\")\n",
        "salvavidas.enqueue( 1 , \"niños\")\n",
        "salvavidas.enqueue( 4 , \"mecanico\")\n",
        "salvavidas.enqueue( 3 , \"mujeres\")\n",
        "salvavidas.enqueue( 2 , \"tercera edad\")\n",
        "salvavidas.enqueue( 1 , \"niñas\")\n",
        "salvavidas.enqueue( 3 , \"hombres\")\n",
        "salvavidas.enqueue( 4 , \"vigia\")\n",
        "salvavidas.enqueue( 5 , \"capitan\")\n",
        "salvavidas.enqueue( 4 , \"timonel\")\n",
        "salvavidas.to_string()\n",
        "sig = salvavidas.dequeue()\n",
        "print(f\"Subiendo { sig } al bote salvavidas\")\n",
        "salvavidas.to_string()"
      ],
      "execution_count": 3,
      "outputs": [
        {
          "output_type": "stream",
          "name": "stdout",
          "text": [
            "Prioridad 0 ->Prioridad 0 ->| niños | <--| niñas | <--\n",
            "Prioridad 0 ->| tercera edad | <--\n",
            "Prioridad 0 ->| mujeres | <--| hombres | <--\n",
            "Prioridad 0 ->| maestre | <--| mecanico | <--| vigia | <--| timonel | <--\n",
            "Prioridad 0 ->| capitan | <--\n",
            "Prioridad 0 ->Subiendo niños al bote salvavidas\n",
            "Prioridad 0 ->Prioridad 0 ->| niñas | <--\n",
            "Prioridad 0 ->| tercera edad | <--\n",
            "Prioridad 0 ->| mujeres | <--| hombres | <--\n",
            "Prioridad 0 ->| maestre | <--| mecanico | <--| vigia | <--| timonel | <--\n",
            "Prioridad 0 ->| capitan | <--\n",
            "Prioridad 0 ->"
          ]
        }
      ]
    },
    {
      "cell_type": "code",
      "metadata": {
        "id": "Nj4L-1Eva3FI"
      },
      "source": [
        "#implementacion de las colas de prioridad sin acontamientos \n",
        "\n",
        "class PriorityQueue:\n",
        "    def __init__(self):\n",
        "        self.__data =[]\n",
        "        self.__size = 0\n",
        "\n",
        "    def is_empty( self ):\n",
        "         return self.__size == 0\n",
        "\n",
        "    def length( self ):\n",
        "         return self.__size\n",
        "\n",
        "    def enqueue(self , prioridad , elem ):\n",
        "        existe = False\n",
        "        indice = 0\n",
        "        for index in range(len(self.__data)):\n",
        "            if self.__data[index][ \"prioridad\" ] == prioridad:\n",
        "                existe = True\n",
        "                indice = index\n",
        "        \n",
        "        if existe:\n",
        "            self.__data[indice][\"cola\"].enqueue(elem)\n",
        "        else:\n",
        "            self.__data.append( {\"prioridad\":prioridad , \"cola\": Queue() } )\n",
        "            self.__data[-1][\"cola\"].enqueue(elem)\n",
        "\n",
        "    def to_string( self ):\n",
        "        for cola in self.__data:\n",
        "            cola[\"cola\"].to_string()"
      ],
      "execution_count": 4,
      "outputs": []
    },
    {
      "cell_type": "code",
      "metadata": {
        "colab": {
          "base_uri": "https://localhost:8080/"
        },
        "id": "ADmWY1Kwa58w",
        "outputId": "50612229-16b4-49df-f9f2-20aab71231fa"
      },
      "source": [
        "cp = PriorityQueue()\n",
        "cp.enqueue(1,\"niñas\")\n",
        "cp.enqueue(2,\"niños\")\n",
        "cp.to_string()"
      ],
      "execution_count": 5,
      "outputs": [
        {
          "output_type": "stream",
          "name": "stdout",
          "text": [
            "| niñas | <--\n",
            "| niños | <--\n"
          ]
        }
      ]
    }
  ]
}