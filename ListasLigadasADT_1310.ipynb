{
  "nbformat": 4,
  "nbformat_minor": 0,
  "metadata": {
    "colab": {
      "name": "ListasLigadasADT_1310.ipynb",
      "provenance": [],
      "authorship_tag": "ABX9TyM6NQ5V/F0ZEYt9NY3Qxffe",
      "include_colab_link": true
    },
    "kernelspec": {
      "name": "python3",
      "display_name": "Python 3"
    },
    "language_info": {
      "name": "python"
    }
  },
  "cells": [
    {
      "cell_type": "markdown",
      "metadata": {
        "id": "view-in-github",
        "colab_type": "text"
      },
      "source": [
        "<a href=\"https://colab.research.google.com/github/AlanHDLR/Estructura-de-datos/blob/main/ListasLigadasADT_1310.ipynb\" target=\"_parent\"><img src=\"https://colab.research.google.com/assets/colab-badge.svg\" alt=\"Open In Colab\"/></a>"
      ]
    },
    {
      "cell_type": "markdown",
      "metadata": {
        "id": "VJL9rhAs0ids"
      },
      "source": [
        "# Ejercicios con la clase Nodo\n",
        "\n",
        "- Crear nodo\n",
        "  - imprimir el valor del nodo\n",
        "- Crear dos nodos 10, 20\n",
        "  - imprimir el valor del primero\n",
        "  - imprimir el valor del segundo\n",
        "  - transversal\n",
        "- Lo mismo pero con 4 nodos 10, 20, 30, 40\n",
        "  - imprimir el valor del primero\n",
        "  - imprimir el valor del ultimo\n",
        "  - transversal\n",
        "  - insertar el nodo 25, despues del nodo 20 y antes del nodo 30\n",
        "\n",
        "# Todo esto antes de ir a la escritura formal del ADT Lista ligada"
      ]
    },
    {
      "cell_type": "code",
      "metadata": {
        "id": "AB07OyOQ0Wlo"
      },
      "source": [
        "class Nodo: \n",
        "    def __init__( self , value , siguiente = None ):\n",
        "        self.data = value\n",
        "        self.next = siguiente    "
      ],
      "execution_count": 1,
      "outputs": []
    },
    {
      "cell_type": "code",
      "metadata": {
        "colab": {
          "base_uri": "https://localhost:8080/"
        },
        "id": "HHqWwqYI1tHt",
        "outputId": "4a373a2b-2375-43d1-c6d8-939a9abd4659"
      },
      "source": [
        "head = Nodo(10)\n",
        "print( head.data )"
      ],
      "execution_count": 2,
      "outputs": [
        {
          "output_type": "stream",
          "name": "stdout",
          "text": [
            "10\n"
          ]
        }
      ]
    },
    {
      "cell_type": "code",
      "metadata": {
        "colab": {
          "base_uri": "https://localhost:8080/"
        },
        "id": "jf6sodT62ff-",
        "outputId": "465f2399-8281-4163-ccbf-1ac97eaad158"
      },
      "source": [
        "head = Nodo(10)\n",
        "head.next = Nodo(20)\n",
        "print(f\"Primero = { head.data }\")\n",
        "print(f\"Segundo = { head.next.data }\")\n",
        "print()\n",
        "\n",
        "# lo mismo pero ahorrando codigo\n",
        "head = Nodo( 10 , Nodo(20) )\n",
        "print(f\"Primero = { head.data }\")\n",
        "print(f\"Segundo = { head.next.data }\")\n",
        "print()\n",
        "\n",
        "# transversal\n",
        "curr_node = head\n",
        "while curr_node != None:\n",
        "    print(f\"| { curr_node.data } | --> \" , end = \"\")\n",
        "    curr_node = curr_node.next\n",
        "print(\"\")\n",
        "print()\n"
      ],
      "execution_count": 3,
      "outputs": [
        {
          "output_type": "stream",
          "name": "stdout",
          "text": [
            "Primero = 10\n",
            "Segundo = 20\n",
            "\n",
            "Primero = 10\n",
            "Segundo = 20\n",
            "\n",
            "| 10 | --> | 20 | --> \n",
            "\n"
          ]
        }
      ]
    },
    {
      "cell_type": "code",
      "metadata": {
        "colab": {
          "base_uri": "https://localhost:8080/"
        },
        "id": "2Jt2wxNF6_jF",
        "outputId": "4a0b896d-f0be-4cc5-edb1-2b7eca0538a6"
      },
      "source": [
        "head= Nodo(10, Nodo(20, Nodo(30, Nodo(40))))\n",
        "curr_node = head\n",
        "while curr_node != None:\n",
        "    print(f\"| {curr_node.data } | --> \" , end=\"\")\n",
        "    curr_node = curr_node.next\n",
        "print(\"\")\n",
        "print()\n",
        "\n",
        "#Imprimir el Primero\n",
        "print(head.data)\n",
        "print()\n",
        "\n",
        "#Imprimir el último\n",
        "curr_node = head\n",
        "while curr_node.next != None:\n",
        "    curr_node= curr_node.next\n",
        "print(curr_node.data)\n",
        "print()\n",
        "\n",
        "#Insertar el Nodo 25, después del Nodo 20 y antes del Nodo 30\n",
        "curr_node = head\n",
        "while curr_node.data != 20:\n",
        "    curr_node = curr_node.next\n",
        "print(curr_node.data)\n",
        "print()\n",
        "\n",
        "# Crear el 25\n",
        "curr_node.next = Nodo(25, curr_node.next)\n",
        "print(\"DESPUÉS DE INSERTAR 25\")\n",
        "print()\n",
        "while curr_node != None:\n",
        "    print(f\"| {curr_node.data } | --> \" , end=\"\")\n",
        "    curr_node = curr_node.next\n",
        "print(\"\")"
      ],
      "execution_count": 17,
      "outputs": [
        {
          "output_type": "stream",
          "name": "stdout",
          "text": [
            "| 10 | --> | 20 | --> | 30 | --> | 40 | --> \n",
            "\n",
            "10\n",
            "\n",
            "40\n",
            "\n",
            "20\n",
            "\n",
            "DESPUÉS DE INSERTAR 25\n",
            "\n",
            "| 20 | --> | 25 | --> | 30 | --> | 40 | --> \n"
          ]
        }
      ]
    },
    {
      "cell_type": "code",
      "metadata": {
        "colab": {
          "base_uri": "https://localhost:8080/"
        },
        "id": "9g7L0JwYbT3H",
        "outputId": "651f28e6-8f6a-4dcd-a1df-fc067fd94c1f"
      },
      "source": [
        "a = 10\n",
        "b = 20\n",
        "c = 15\n",
        "c = c + a\n",
        "# c?\n",
        "\n",
        "c = ( c + a ) * b\n",
        "print(c)"
      ],
      "execution_count": 6,
      "outputs": [
        {
          "output_type": "stream",
          "name": "stdout",
          "text": [
            "700\n"
          ]
        }
      ]
    },
    {
      "cell_type": "code",
      "metadata": {
        "id": "WF1SdmBSho64"
      },
      "source": [
        "class LinkedList:\n",
        "    def __init__( self ):\n",
        "        self.head = None\n",
        "\n",
        "    def is_empty( self ):\n",
        "        return self.head == None\n",
        "\n",
        "    def get_tail( self ):\n",
        "        if self.is_empty():\n",
        "            return None\n",
        "        else:\n",
        "            curr_node = self.head\n",
        "            while curr_node.next != None:\n",
        "                curr_node = curr_node.next\n",
        "            return curr_node\n",
        "\n",
        "    def append( self , value ):\n",
        "        if self.head == None:\n",
        "            self.head = Nodo( value )\n",
        "        else:\n",
        "            curr_node =self.head\n",
        "            while curr_node.next !=None:\n",
        "                curr_node = curr_node.next\n",
        "            curr_node.next = Nodo( value )    \n",
        "\n",
        "    def transversal( self ):\n",
        "        curr_node = self.head\n",
        "        while curr_node !=None:\n",
        "            print(f\"| { curr_node.data} | --> \", end=\"\")\n",
        "            curr_node = curr_node.next\n",
        "        print(\"\")\n",
        "\n",
        "    def remove( self , value ):\n",
        "        if self.head == None:\n",
        "            print(\"Lista vacía, no se puede remover nada\")\n",
        "        else:\n",
        "            curr_node = self.head\n",
        "            aux= None\n",
        "            while curr_node.data != value : #Revisar cuando el valor no existe \n",
        "                aux= curr_node\n",
        "                curr_node = curr_node.next\n",
        "\n",
        "            if curr_node != None:\n",
        "                  aux.next = curr_node.next  \n",
        "                  curr_node = None\n",
        "\n",
        "\n",
        "    def preppend( self , value ):\n",
        "        if self.head == None:\n",
        "            print(\" Está vacío, no se puede hacer preppend\")\n",
        "        else:\n",
        "            self.head = Nodo( value , self.head)"
      ],
      "execution_count": 18,
      "outputs": []
    },
    {
      "cell_type": "code",
      "metadata": {
        "colab": {
          "base_uri": "https://localhost:8080/"
        },
        "id": "OGop-o0lqXjv",
        "outputId": "589668fc-f803-41e2-a51f-464e6a2d0243"
      },
      "source": [
        "lista = LinkedList()\n",
        "if lista.is_empty():\n",
        "    print(\"La lista está vacía\")\n",
        "    print()\n",
        "else:\n",
        "    print(\" La lista no está vacía\")\n",
        "    print()\n",
        "\n",
        "lista.append(10)\n",
        "lista.append(20)\n",
        "lista.append(30)\n",
        "lista.append(40)\n",
        "lista.append(50)\n",
        "\n",
        "nodo = lista.get_tail()\n",
        "if nodo !=None:\n",
        "    print(nodo.data)\n",
        "    print()\n",
        "else: \n",
        "    print(\"Lista está vacía\")\n",
        "    print()\n",
        "\n",
        "lista.transversal()\n",
        "lista.remove(30)\n",
        "lista.transversal()\n",
        "lista.preppend(5)\n",
        "print(\"Después del preppend\")\n",
        "lista.transversal()"
      ],
      "execution_count": 22,
      "outputs": [
        {
          "output_type": "stream",
          "name": "stdout",
          "text": [
            "La lista está vacía\n",
            "\n",
            "50\n",
            "\n",
            "| 10 | --> | 20 | --> | 30 | --> | 40 | --> | 50 | --> \n",
            "| 10 | --> | 20 | --> | 40 | --> | 50 | --> \n",
            "Después del preppend\n",
            "| 5 | --> | 10 | --> | 20 | --> | 40 | --> | 50 | --> \n"
          ]
        }
      ]
    }
  ]
}