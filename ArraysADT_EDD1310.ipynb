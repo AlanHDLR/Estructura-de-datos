{
  "nbformat": 4,
  "nbformat_minor": 0,
  "metadata": {
    "colab": {
      "name": "ArraysADT_EDD1310",
      "provenance": [],
      "authorship_tag": "ABX9TyPa8lh3V1TBs3V3azGBVudO",
      "include_colab_link": true
    },
    "kernelspec": {
      "name": "python3",
      "display_name": "Python 3"
    },
    "language_info": {
      "name": "python"
    }
  },
  "cells": [
    {
      "cell_type": "markdown",
      "metadata": {
        "id": "view-in-github",
        "colab_type": "text"
      },
      "source": [
        "<a href=\"https://colab.research.google.com/github/AlanHDLR/Estructura-de-datos/blob/main/ArraysADT_EDD1310.ipynb\" target=\"_parent\"><img src=\"https://colab.research.google.com/assets/colab-badge.svg\" alt=\"Open In Colab\"/></a>"
      ]
    },
    {
      "cell_type": "markdown",
      "metadata": {
        "id": "HtotZeKqjCRx"
      },
      "source": [
        "# ADT Array\n",
        "\n",
        "- Array (tamaño) -> constructor de un tamaño especifico del arreglo\n",
        "- getitem (index) -> obtener elemento en la posicion especifica\n",
        "- setitem (dato, index) -> establecer un elemento en la posicion establecida\n",
        "- getLenght() -> Obtener el tamaño del arreglo\n",
        "- Clear(dato) -> lIMPIAR UN DATO\n",
        "- get iterator -> regresar el iterador ADT\n",
        "\n"
      ]
    },
    {
      "cell_type": "code",
      "metadata": {
        "colab": {
          "base_uri": "https://localhost:8080/"
        },
        "id": "eaxQdpTRf47g",
        "outputId": "703e687a-dad7-4b5b-801b-904ff5cec538"
      },
      "source": [
        "class Array:\n",
        "  def __init__( self, tam ):\n",
        "    self.__tamanio = tam\n",
        "    self.__data = [ 0 for x in range(self.__tamanio) ]\n",
        "\n",
        "  def to_string( self ):\n",
        "    info = \"\"\n",
        "    for dato in self.__data:\n",
        "      info = info + str(dato) +\"|\"\n",
        "    return info \n",
        "\n",
        "  def get_item( self, index ):\n",
        "    return self.__data[index]\n",
        "\n",
        "  def get_lenght( self ):\n",
        "    return len( self.__data )\n",
        "  \n",
        "  def set_item(self , index):\n",
        "    # Hace falta revisar los indices\n",
        "    if index >= 0 and index < self.get_lenght():\n",
        "      self.__data[index] = dato\n",
        "    else:\n",
        "      print(\"Error: indice fuera de rango\")\n",
        "\n",
        "  def clear( self , dato ):\n",
        "    self.__data = [ 0 for x in range(self.__tamanio) ]\n",
        "\n",
        "ejemplo = Array(20)\n",
        "print( ejemplo.to_string() )\n",
        "print( ejemplo.get_item(2) )\n",
        "#ejemplo.set_item( 45 , 22 )\n",
        "print( ejemplo.to_string() )\n",
        "ejemplo.clear( 4 )\n",
        "print( ejemplo.to_string() )\n",
        "print(ejemplo.get_lenght())"
      ],
      "execution_count": null,
      "outputs": [
        {
          "output_type": "stream",
          "name": "stdout",
          "text": [
            "0|0|0|0|0|0|0|0|0|0|0|0|0|0|0|0|0|0|0|0|\n",
            "0\n",
            "0|0|0|0|0|0|0|0|0|0|0|0|0|0|0|0|0|0|0|0|\n",
            "0|0|0|0|0|0|0|0|0|0|0|0|0|0|0|0|0|0|0|0|\n",
            "20\n"
          ]
        }
      ]
    },
    {
      "cell_type": "code",
      "metadata": {
        "colab": {
          "base_uri": "https://localhost:8080/"
        },
        "id": "wIDhj2qAgjkE",
        "outputId": "3bce325e-403c-4207-e00b-3c5ae736761a"
      },
      "source": [
        "lista = [ 3 * x for x in range(10) ]\n",
        "print(lista)"
      ],
      "execution_count": null,
      "outputs": [
        {
          "output_type": "stream",
          "name": "stdout",
          "text": [
            "[0, 3, 6, 9, 12, 15, 18, 21, 24, 27]\n"
          ]
        }
      ]
    }
  ]
}