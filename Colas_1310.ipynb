{
  "nbformat": 4,
  "nbformat_minor": 0,
  "metadata": {
    "colab": {
      "name": "Colas_1310.ipynb",
      "provenance": [],
      "authorship_tag": "ABX9TyOBekpPfFKsvaEmkZgeqbm/",
      "include_colab_link": true
    },
    "kernelspec": {
      "name": "python3",
      "display_name": "Python 3"
    },
    "language_info": {
      "name": "python"
    }
  },
  "cells": [
    {
      "cell_type": "markdown",
      "metadata": {
        "id": "view-in-github",
        "colab_type": "text"
      },
      "source": [
        "<a href=\"https://colab.research.google.com/github/AlanHDLR/Estructura-de-datos/blob/main/Colas_1310.ipynb\" target=\"_parent\"><img src=\"https://colab.research.google.com/assets/colab-badge.svg\" alt=\"Open In Colab\"/></a>"
      ]
    },
    {
      "cell_type": "code",
      "metadata": {
        "id": "oBEMou_OXzk1"
      },
      "source": [
        "class Queue:\n",
        "  def __init__(self):\n",
        "    self.data = []\n",
        "\n",
        "  def is_empty(self):\n",
        "    return len(self.data) == 0\n",
        "  \n",
        "  def length( self):\n",
        "    return len( self.data)\n",
        "  \n",
        "  def enqueue( self,value):\n",
        "    self.data.append(value)\n",
        "  \n",
        "  def dequeue( self):\n",
        "    return self.data.pop(0)\n",
        "\n",
        "  def to_string ( self):\n",
        "    for elem in self.data:\n",
        "      print(f\"| {elem} | <--\", end=\"\")\n",
        "    print(\"\")\n"
      ],
      "execution_count": 1,
      "outputs": []
    },
    {
      "cell_type": "code",
      "metadata": {
        "colab": {
          "base_uri": "https://localhost:8080/"
        },
        "id": "XQRcblM3X5fg",
        "outputId": "1dc6f3a9-1d5f-45cd-b1e0-acd0dc8ed717"
      },
      "source": [
        "cola = Queue()\n",
        "print(\"Esta vacio?:\",cola.is_empty())\n",
        "print(\"numero de elementos = \", cola.length())\n",
        "cola.enqueue(10)\n",
        "cola.enqueue(20)\n",
        "cola.enqueue(30)\n",
        "print(\"Esta vacio?:\",cola.is_empty())\n",
        "print(\"numero de elementos = \", cola.length())\n",
        "cola.to_string()\n",
        "siguiente = cola.dequeue()\n",
        "cola.enqueue(40)\n",
        "cola.enqueue(50)\n",
        "cola.enqueue(60)\n",
        "print(\"Atendiendo a:\",siguiente)\n",
        "cola.to_string()"
      ],
      "execution_count": 2,
      "outputs": [
        {
          "output_type": "stream",
          "name": "stdout",
          "text": [
            "Esta vacio?: True\n",
            "numero de elementos =  0\n",
            "Esta vacio?: False\n",
            "numero de elementos =  3\n",
            "| 10 | <--| 20 | <--| 30 | <--\n",
            "Atendiendo a: 10\n",
            "| 20 | <--| 30 | <--| 40 | <--| 50 | <--| 60 | <--\n"
          ]
        }
      ]
    },
    {
      "cell_type": "code",
      "metadata": {
        "colab": {
          "base_uri": "https://localhost:8080/"
        },
        "id": "wSQ-Kqh3YAXF",
        "outputId": "6eb3401a-9400-494c-e6bc-ecc2730ea588"
      },
      "source": [
        "help(list.pop)"
      ],
      "execution_count": 3,
      "outputs": [
        {
          "output_type": "stream",
          "name": "stdout",
          "text": [
            "Help on method_descriptor:\n",
            "\n",
            "pop(self, index=-1, /)\n",
            "    Remove and return item at index (default last).\n",
            "    \n",
            "    Raises IndexError if list is empty or index is out of range.\n",
            "\n"
          ]
        }
      ]
    }
  ]
}